{
 "cells": [
  {
   "cell_type": "code",
   "execution_count": null,
   "id": "d29bc2bb-1f63-4edd-8d02-d25e93e9d252",
   "metadata": {
    "scrolled": true
   },
   "outputs": [],
   "source": "0+4"
  }
 ],
 "metadata": {
  "kernelspec": {
   "display_name": "Python 3 (ipykernel)",
   "language": "python",
   "name": "python3"
  },
  "language_info": {
   "codemirror_mode": {
    "name": "ipython",
    "version": 3
   },
   "file_extension": ".py",
   "mimetype": "text/x-python",
   "name": "python",
   "nbconvert_exporter": "python",
   "pygments_lexer": "ipython3",
   "version": "3.13.7"
  }
 },
 "nbformat": 4,
 "nbformat_minor": 5
}
