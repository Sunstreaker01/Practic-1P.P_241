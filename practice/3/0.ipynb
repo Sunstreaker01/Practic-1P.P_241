{
 "cells": [
  {
   "cell_type": "markdown",
   "id": "b82eb65d",
   "metadata": {},
   "source": [
    "#Організував практики по папками перед пушом практики 3.\n",
    "-\n",
    "https://github.com/Sunstreaker01/Practic-1P.P_241/branches\n",
    "-"
   ]
  },
  {
   "cell_type": "code",
   "execution_count": null,
   "id": "bf7d0da2",
   "metadata": {},
   "outputs": [],
   "source": [
    "0+3"
   ]
  }
 ],
 "metadata": {
  "kernelspec": {
   "display_name": "Python 3 (ipykernel)",
   "language": "python",
   "name": "python3"
  },
  "language_info": {
   "codemirror_mode": {
    "name": "ipython",
    "version": 3
   },
   "file_extension": ".py",
   "mimetype": "text/x-python",
   "name": "python",
   "nbconvert_exporter": "python",
   "pygments_lexer": "ipython3",
   "version": "3.13.7"
  }
 },
 "nbformat": 4,
 "nbformat_minor": 5
}
